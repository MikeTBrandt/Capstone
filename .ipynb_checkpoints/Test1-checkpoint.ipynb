{
 "cells": [
  {
   "cell_type": "code",
   "execution_count": 2,
   "id": "ca169d31",
   "metadata": {
    "scrolled": false
   },
   "outputs": [
    {
     "data": {
      "application/vnd.jupyter.widget-view+json": {
       "model_id": "51e4f5588fe04d999e40124889e13b96",
       "version_major": 2,
       "version_minor": 0
      },
      "text/plain": [
       "Dropdown(description='Select Map:', options=('Pearl Harbor', 'Norfolk Naval Station, Virginia', 'Middle of the…"
      ]
     },
     "metadata": {},
     "output_type": "display_data"
    },
    {
     "data": {
      "application/vnd.jupyter.widget-view+json": {
       "model_id": "a143248c61a94d71b2a40b4901bca88d",
       "version_major": 2,
       "version_minor": 0
      },
      "text/plain": [
       "Map(center=[21.3445, -157.9746], controls=(ZoomControl(options=['position', 'zoom_in_text', 'zoom_in_title', '…"
      ]
     },
     "metadata": {},
     "output_type": "display_data"
    },
    {
     "data": {
      "application/vnd.jupyter.widget-view+json": {
       "model_id": "1c9e93f737184fa7b97adb7b01dfa236",
       "version_major": 2,
       "version_minor": 0
      },
      "text/plain": [
       "Button(description='Clear Ships', style=ButtonStyle())"
      ]
     },
     "metadata": {},
     "output_type": "display_data"
    },
    {
     "data": {
      "application/vnd.jupyter.widget-view+json": {
       "model_id": "cc73575ec0a348238a57f0d1df751e81",
       "version_major": 2,
       "version_minor": 0
      },
      "text/plain": [
       "HBox(children=(Button(description='Add Carrier', style=ButtonStyle()), Button(description='Add Cruiser', style…"
      ]
     },
     "metadata": {},
     "output_type": "display_data"
    },
    {
     "data": {
      "application/vnd.jupyter.widget-view+json": {
       "model_id": "54e8467396964320863e0fbf4079b755",
       "version_major": 2,
       "version_minor": 0
      },
      "text/plain": [
       "Button(description='Finalize Ship Location', style=ButtonStyle())"
      ]
     },
     "metadata": {},
     "output_type": "display_data"
    },
    {
     "data": {
      "application/vnd.jupyter.widget-view+json": {
       "model_id": "e82e302e30364b5d969406d23c7865cd",
       "version_major": 2,
       "version_minor": 0
      },
      "text/plain": [
       "Textarea(value='', layout=Layout(height='100px', width='400px'))"
      ]
     },
     "metadata": {},
     "output_type": "display_data"
    }
   ],
   "source": [
    "import numpy as np\n",
    "import ipywidgets as widgets\n",
    "from ipyleaflet import Map, Marker, AwesomeIcon\n",
    "from IPython.display import display\n",
    "\n",
    "# Function to calculate distance between two coordinates\n",
    "def calculate_distance(coord1, coord2):\n",
    "    x1, y1 = coord1\n",
    "    x2, y2 = coord2\n",
    "    distance = np.sqrt((x2 - x1)**2 + (y2 - y1)**2) * 111320 / 0.9144  # Conversion from degrees to yards\n",
    "    return distance\n",
    "\n",
    "# Function to add a new ship icon\n",
    "def add_ship(ship_color, ship_type, initial_location):\n",
    "    while True:\n",
    "        # Generate random location within the map boundaries\n",
    "        random_location = [\n",
    "            main_icon.location[0] + np.random.uniform(-0.01, 0.01),\n",
    "            main_icon.location[1] + np.random.uniform(-0.01, 0.01)\n",
    "        ]\n",
    "\n",
    "        # Check distance from existing icons\n",
    "        too_close = False\n",
    "        for icon in secondary_icons:\n",
    "            distance = calculate_distance(icon.location, random_location)\n",
    "            if distance < 100:\n",
    "                too_close = True\n",
    "                break\n",
    "\n",
    "        if not too_close:\n",
    "            break\n",
    "\n",
    "    new_icon = Marker(\n",
    "        location=random_location,\n",
    "        draggable=True,\n",
    "        icon=AwesomeIcon(name='circle', marker_color=ship_color, icon_color='white')\n",
    "    )\n",
    "    secondary_icons.append(new_icon)\n",
    "    secondary_ship_types[new_icon] = ship_type\n",
    "    m.add_layer(new_icon)\n",
    "\n",
    "# Function to remove all ships from the map\n",
    "def clear_ships():\n",
    "    for icon in secondary_icons:\n",
    "        m.remove_layer(icon)\n",
    "    secondary_icons.clear()\n",
    "\n",
    "# Function to handle main icon movement\n",
    "def on_main_icon_move(event, main_icon):\n",
    "    main_icon.location = event['new']\n",
    "\n",
    "# Function to finalize ship location and calculate distances\n",
    "def finalize_ship_location(button):\n",
    "    # Move main icon to average position of 100 random movements within 50 yards of the original position\n",
    "    main_icon_location = main_icon.location\n",
    "    for _ in range(100):\n",
    "        random_location = [\n",
    "            main_icon_location[0] + np.random.uniform(-0.0005, 0.0005),\n",
    "            main_icon_location[1] + np.random.uniform(-0.0005, 0.0005)\n",
    "        ]\n",
    "        distance = calculate_distance(main_icon_location, random_location)\n",
    "        if distance <= 50:\n",
    "            main_icon_location = random_location\n",
    "\n",
    "    main_icon.location = main_icon_location\n",
    "\n",
    "    # Calculate distances from main icon to all secondary icons\n",
    "    distances = []\n",
    "    for icon in secondary_icons:\n",
    "        distance = calculate_distance(main_icon.location, icon.location)\n",
    "        distances.append((secondary_ship_types[icon], distance))\n",
    "\n",
    "    # Display distances in the text widget\n",
    "    distances_text.value = \"\\n\".join(f\"{ship}: {distance:.2f} yards\" for ship, distance in distances)\n",
    "\n",
    "# Function to handle map change\n",
    "def on_map_change(change):\n",
    "    if change['name'] == 'center':\n",
    "        clear_ships()\n",
    "        main_icon.location = change['new']\n",
    "\n",
    "# Define initial locations for different maps\n",
    "initial_locations = {\n",
    "    \"Pearl Harbor\": [21.3445, -157.9746],\n",
    "    \"Norfolk Naval Station, Virginia\": [36.9375, -76.3186],\n",
    "    \"Middle of the Atlantic Ocean\": [27.4076, -40.3018],\n",
    "    \"Middle of the Pacific Ocean\": [27.3897, 166.5527]\n",
    "}\n",
    "\n",
    "# Create map selection dropdown widget\n",
    "map_selection_dropdown = widgets.Dropdown(\n",
    "    options=list(initial_locations.keys()),\n",
    "    description='Select Map:',\n",
    "    disabled=False\n",
    ")\n",
    "\n",
    "# Create main map\n",
    "m = Map(center=initial_locations[map_selection_dropdown.value], zoom=15, layout=dict(height='600px'))\n",
    "\n",
    "# Main icon\n",
    "main_icon = Marker(\n",
    "    location=initial_locations[map_selection_dropdown.value],\n",
    "    draggable=True,\n",
    "    icon=AwesomeIcon(name='circle', marker_color='red', icon_color='white')\n",
    ")\n",
    "\n",
    "# Initialize secondary icons list and ship types dictionary\n",
    "secondary_icons = []\n",
    "secondary_ship_types = {}\n",
    "\n",
    "# Event handler for main icon movement\n",
    "main_icon.observe(lambda event: on_main_icon_move(event, main_icon), names='location')\n",
    "\n",
    "# Event handler for map change\n",
    "m.observe(on_map_change)\n",
    "\n",
    "# Event handler for map selection change\n",
    "def on_map_selection_change(change):\n",
    "    m.center = initial_locations[change['new']]\n",
    "    clear_ships()\n",
    "    main_icon.location = initial_locations[change['new']]\n",
    "\n",
    "# Bind event handler to map selection dropdown\n",
    "map_selection_dropdown.observe(on_map_selection_change, names='value')\n",
    "\n",
    "# Add main icon to the map\n",
    "m.add_layer(main_icon)\n",
    "\n",
    "# Display the map selection dropdown\n",
    "display(map_selection_dropdown)\n",
    "\n",
    "# Display the map\n",
    "display(m)\n",
    "\n",
    "# Event handler to add a carrier icon\n",
    "def add_carrier(button):\n",
    "    add_ship('blue', 'Carrier', m.center)\n",
    "\n",
    "# Event handler to add a cruiser icon\n",
    "def add_cruiser(button):\n",
    "    add_ship('green', 'Cruiser', m.center)\n",
    "\n",
    "# Event handler to add a destroyer icon\n",
    "def add_destroyer(button):\n",
    "    add_ship('black', 'Destroyer', m.center)\n",
    "\n",
    "# Event handler to add a supply ship icon\n",
    "def add_supply_ship(button):\n",
    "    add_ship('white', 'Supply Ship', m.center)\n",
    "    \n",
    "def clear_ships(button):\n",
    "    for icon in secondary_icons:\n",
    "        m.remove_layer(icon)\n",
    "    secondary_icons.clear()\n",
    "\n",
    "# Add clear button\n",
    "clear_button = widgets.Button(description=\"Clear Ships\")\n",
    "clear_button.on_click(clear_ships)\n",
    "\n",
    "# Add clear button to the display\n",
    "display(clear_button)\n",
    "\n",
    "# Add secondary icon buttons\n",
    "add_carrier_button = widgets.Button(description=\"Add Carrier\")\n",
    "add_carrier_button.on_click(add_carrier)\n",
    "add_cruiser_button = widgets.Button(description=\"Add Cruiser\")\n",
    "add_cruiser_button.on_click(add_cruiser)\n",
    "add_destroyer_button = widgets.Button(description=\"Add Destroyer\")\n",
    "add_destroyer_button.on_click(add_destroyer)\n",
    "add_supply_ship_button = widgets.Button(description=\"Add Supply Ship\")\n",
    "add_supply_ship_button.on_click(add_supply_ship)\n",
    "\n",
    "# Display buttons\n",
    "ship_buttons = widgets.HBox([add_carrier_button, add_cruiser_button, add_destroyer_button, add_supply_ship_button])\n",
    "display(ship_buttons)\n",
    "# Display finalize ship location button\n",
    "finalize_button = widgets.Button(description=\"Finalize Ship Location\")\n",
    "finalize_button.on_click(finalize_ship_location)\n",
    "display(finalize_button)\n",
    "\n",
    "# Text widget to display distances\n",
    "distances_text = widgets.Textarea(layout={'height': '100px', 'width': '400px'})\n",
    "display(distances_text)\n",
    "\n"
   ]
  },
  {
   "cell_type": "code",
   "execution_count": null,
   "id": "a9e12659",
   "metadata": {},
   "outputs": [],
   "source": []
  }
 ],
 "metadata": {
  "kernelspec": {
   "display_name": "Python 3 (ipykernel)",
   "language": "python",
   "name": "python3"
  },
  "language_info": {
   "codemirror_mode": {
    "name": "ipython",
    "version": 3
   },
   "file_extension": ".py",
   "mimetype": "text/x-python",
   "name": "python",
   "nbconvert_exporter": "python",
   "pygments_lexer": "ipython3",
   "version": "3.11.4"
  }
 },
 "nbformat": 4,
 "nbformat_minor": 5
}
